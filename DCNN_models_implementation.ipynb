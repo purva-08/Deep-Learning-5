{
  "nbformat": 4,
  "nbformat_minor": 0,
  "metadata": {
    "colab": {
      "provenance": []
    },
    "kernelspec": {
      "name": "python3",
      "display_name": "Python 3"
    },
    "language_info": {
      "name": "python"
    },
    "accelerator": "GPU",
    "gpuClass": "standard"
  },
  "cells": [
    {
      "cell_type": "markdown",
      "source": [
        "# **Import necessary libraries**"
      ],
      "metadata": {
        "id": "PdP34zQLvMxA"
      }
    },
    {
      "cell_type": "code",
      "source": [
        "# keras imports for the dataset and building our neural network\n",
        "import keras \n",
        "from keras.datasets import cifar10\n",
        "from keras.models import Sequential\n",
        "from keras.layers import Dense, Dropout, Conv2D, MaxPooling2D, Flatten,Input\n",
        "from keras.utils import np_utils\n",
        "import matplotlib.pyplot as plt\n",
        "from tensorflow.keras.models import Model\n",
        "from tensorflow.keras.optimizers import SGD"
      ],
      "metadata": {
        "id": "mjMS19WVLLYD"
      },
      "execution_count": 1,
      "outputs": []
    },
    {
      "cell_type": "markdown",
      "source": [
        "# **Load and preprocess the CIFAR10 dataset**"
      ],
      "metadata": {
        "id": "DHpVMhqFvcXV"
      }
    },
    {
      "cell_type": "code",
      "source": [
        "# loading the dataset\n",
        "(X_train, y_train), (X_test, y_test) = cifar10.load_data()"
      ],
      "metadata": {
        "id": "uiHc8u8PLM0q",
        "colab": {
          "base_uri": "https://localhost:8080/"
        },
        "outputId": "5aae9d5d-7ec8-4404-e203-194b8e5a625e"
      },
      "execution_count": 2,
      "outputs": [
        {
          "output_type": "stream",
          "name": "stdout",
          "text": [
            "Downloading data from https://www.cs.toronto.edu/~kriz/cifar-10-python.tar.gz\n",
            "170498071/170498071 [==============================] - 3s 0us/step\n"
          ]
        }
      ]
    },
    {
      "cell_type": "code",
      "source": [
        "print('Training data shape : ', X_train.shape, y_train.shape)\n",
        "\n",
        "print('Testing data shape : ', X_test.shape, y_test.shape)"
      ],
      "metadata": {
        "colab": {
          "base_uri": "https://localhost:8080/"
        },
        "id": "bCICMlmvLgfL",
        "outputId": "a4609371-8b7f-4d18-dae4-5bc4e105163c"
      },
      "execution_count": 3,
      "outputs": [
        {
          "output_type": "stream",
          "name": "stdout",
          "text": [
            "Training data shape :  (50000, 32, 32, 3) (50000, 1)\n",
            "Testing data shape :  (10000, 32, 32, 3) (10000, 1)\n"
          ]
        }
      ]
    },
    {
      "cell_type": "code",
      "source": [
        "#make a input vector so we \n",
        "#reshape it into input format for training and testing sets. After that change all datatypes into floats\n",
        "\n",
        "# building the input vector from the 32x32 pixels\n",
        "X_train = X_train.reshape(X_train.shape[0], 32, 32, 3)\n",
        "X_test = X_test.reshape(X_test.shape[0], 32, 32, 3)\n",
        "X_train = X_train.astype('float32')\n",
        "X_test = X_test.astype('float32')"
      ],
      "metadata": {
        "id": "1kh0n5osN90g"
      },
      "execution_count": 4,
      "outputs": []
    },
    {
      "cell_type": "code",
      "source": [
        "# normalizing the data to help with the training\n",
        "X_train /= 255\n",
        "X_test /= 255"
      ],
      "metadata": {
        "id": "lwkZ1LNsMp6Q"
      },
      "execution_count": 5,
      "outputs": []
    },
    {
      "cell_type": "code",
      "source": [
        "# one-hot encoding using keras' numpy-related utilities\n",
        "n_classes = 10\n",
        "print(\"Shape before one-hot encoding: \", y_train.shape)\n",
        "y_train = np_utils.to_categorical(y_train, n_classes)\n",
        "y_test = np_utils.to_categorical(y_test, n_classes)\n",
        "print(\"Shape after one-hot encoding: \", y_train.shape)"
      ],
      "metadata": {
        "colab": {
          "base_uri": "https://localhost:8080/"
        },
        "id": "32Xx6KQsOqmE",
        "outputId": "eec79738-af61-4d5f-b839-bff772d2d041"
      },
      "execution_count": 6,
      "outputs": [
        {
          "output_type": "stream",
          "name": "stdout",
          "text": [
            "Shape before one-hot encoding:  (50000, 1)\n",
            "Shape after one-hot encoding:  (50000, 10)\n"
          ]
        }
      ]
    },
    {
      "cell_type": "code",
      "source": [
        "print(X_train.shape)\n",
        "print(y_train.shape)"
      ],
      "metadata": {
        "colab": {
          "base_uri": "https://localhost:8080/"
        },
        "id": "vgtKeevQy3V2",
        "outputId": "055827ac-8d09-459f-8db5-b37dea453bd6"
      },
      "execution_count": 7,
      "outputs": [
        {
          "output_type": "stream",
          "name": "stdout",
          "text": [
            "(50000, 32, 32, 3)\n",
            "(50000, 10)\n"
          ]
        }
      ]
    },
    {
      "cell_type": "markdown",
      "source": [
        "# **custom network architecture 1**"
      ],
      "metadata": {
        "id": "JDmlMXT5ySKZ"
      }
    },
    {
      "cell_type": "code",
      "source": [
        "# Define input shape\n",
        "input_shape = (32, 32, 3)\n",
        "\n",
        "# Define the input layer\n",
        "inputs = Input(shape=input_shape)\n",
        "\n",
        "# Define the first convolutional layer with a learning rate of 0.01\n",
        "conv1 = Conv2D(filters=32, kernel_size=(3, 3), padding='same', activation='relu', name='conv1')(inputs)\n",
        "\n",
        "# Define the second convolutional layer with a learning rate of 0.005\n",
        "conv2 = Conv2D(filters=64, kernel_size=(3, 3), padding='same', activation='relu', name='conv2')(conv1)\n",
        "\n",
        "# Define the third convolutional layer with a learning rate of 0.001\n",
        "conv3 = Conv2D(filters=128, kernel_size=(3, 3), padding='same', activation='relu', name='conv3')(conv2)\n",
        "\n",
        "# Define the fourth convolutional layer with a learning rate of 0.0005\n",
        "conv4 = Conv2D(filters=256, kernel_size=(3, 3), padding='same', activation='relu', name='conv4')(conv3)\n",
        "\n",
        "# Define the fifth convolutional layer with a learning rate of 0.0001\n",
        "conv5 = Conv2D(filters=512, kernel_size=(3, 3), padding='same', activation='relu', name='conv5')(conv4)\n",
        "\n",
        "# Define the max pooling layer\n",
        "pooling = MaxPooling2D(pool_size=(2, 2), name='max_pooling')(conv5)\n",
        "\n",
        "# Flatten the output from the max pooling layer\n",
        "flatten = Flatten(name='flatten')(pooling)\n",
        "\n",
        "# Define the first fully connected layer\n",
        "fc1 = Dense(units=256, activation='relu', name='fc1')(flatten)\n",
        "\n",
        "# Add a dropout layer to prevent overfitting\n",
        "dropout1 = Dropout(rate=0.4, name='dropout1')(fc1)\n",
        "\n",
        "# Define the second fully connected layer\n",
        "fc2 = Dense(units=128, activation='relu', name='fc2')(dropout1)\n",
        "\n",
        "# Add a dropout layer to prevent overfitting\n",
        "dropout2 = Dropout(rate=0.3, name='dropout2')(fc2)\n",
        "\n",
        "# Define the output layer\n",
        "outputs = Dense(units=10, activation='softmax', name='output')(dropout2)\n",
        "\n",
        "# Create the model\n",
        "model = Model(inputs=inputs, outputs=outputs, name='my_custom_model')\n",
        "\n",
        "# Define the optimizer with different learning rates for different convolutional layers\n",
        "sgd = SGD(lr={'conv1': 0.01, 'conv2': 0.005, 'conv3': 0.001, 'conv4': 0.0005, 'conv5': 0.0001})\n",
        "\n",
        "# Compile the model with categorical cross-entropy loss and accuracy metric\n",
        "model.compile(loss='categorical_crossentropy', metrics=['accuracy'], optimizer=sgd)\n",
        "history=model.fit(X_train, y_train, batch_size=128, epochs=30, validation_data=(X_test, y_test))"
      ],
      "metadata": {
        "colab": {
          "base_uri": "https://localhost:8080/"
        },
        "id": "Aa3HCC5pk6Sm",
        "outputId": "b27a5711-2eaa-4796-df48-d2e958b3ea37"
      },
      "execution_count": 8,
      "outputs": [
        {
          "metadata": {
            "tags": null
          },
          "name": "stderr",
          "output_type": "stream",
          "text": [
            "WARNING:absl:`lr` is deprecated, please use `learning_rate` instead, or use the legacy optimizer, e.g.,tf.keras.optimizers.legacy.SGD.\n"
          ]
        },
        {
          "output_type": "stream",
          "name": "stdout",
          "text": [
            "Epoch 1/30\n",
            "391/391 [==============================] - 79s 161ms/step - loss: 2.1824 - accuracy: 0.1908 - val_loss: 2.0078 - val_accuracy: 0.2843\n",
            "Epoch 2/30\n",
            "391/391 [==============================] - 59s 151ms/step - loss: 1.9624 - accuracy: 0.2934 - val_loss: 1.8682 - val_accuracy: 0.3362\n",
            "Epoch 3/30\n",
            "391/391 [==============================] - 59s 151ms/step - loss: 1.8409 - accuracy: 0.3411 - val_loss: 1.6814 - val_accuracy: 0.4095\n",
            "Epoch 4/30\n",
            "391/391 [==============================] - 61s 155ms/step - loss: 1.7605 - accuracy: 0.3735 - val_loss: 1.6613 - val_accuracy: 0.4111\n",
            "Epoch 5/30\n",
            "391/391 [==============================] - 61s 155ms/step - loss: 1.6845 - accuracy: 0.3980 - val_loss: 1.5767 - val_accuracy: 0.4362\n",
            "Epoch 6/30\n",
            "391/391 [==============================] - 59s 152ms/step - loss: 1.6104 - accuracy: 0.4211 - val_loss: 1.4588 - val_accuracy: 0.4801\n",
            "Epoch 7/30\n",
            "391/391 [==============================] - 59s 152ms/step - loss: 1.5503 - accuracy: 0.4460 - val_loss: 1.3937 - val_accuracy: 0.4988\n",
            "Epoch 8/30\n",
            "391/391 [==============================] - 59s 152ms/step - loss: 1.4932 - accuracy: 0.4652 - val_loss: 1.3616 - val_accuracy: 0.5136\n",
            "Epoch 9/30\n",
            "391/391 [==============================] - 60s 152ms/step - loss: 1.4341 - accuracy: 0.4861 - val_loss: 1.3363 - val_accuracy: 0.5255\n",
            "Epoch 10/30\n",
            "391/391 [==============================] - 59s 152ms/step - loss: 1.3829 - accuracy: 0.5059 - val_loss: 1.2947 - val_accuracy: 0.5370\n",
            "Epoch 11/30\n",
            "391/391 [==============================] - 59s 152ms/step - loss: 1.3263 - accuracy: 0.5245 - val_loss: 1.2186 - val_accuracy: 0.5668\n",
            "Epoch 12/30\n",
            "391/391 [==============================] - 61s 155ms/step - loss: 1.2790 - accuracy: 0.5433 - val_loss: 1.1885 - val_accuracy: 0.5790\n",
            "Epoch 13/30\n",
            "391/391 [==============================] - 59s 152ms/step - loss: 1.2274 - accuracy: 0.5620 - val_loss: 1.1456 - val_accuracy: 0.5916\n",
            "Epoch 14/30\n",
            "391/391 [==============================] - 61s 155ms/step - loss: 1.1791 - accuracy: 0.5809 - val_loss: 1.1184 - val_accuracy: 0.6039\n",
            "Epoch 15/30\n",
            "391/391 [==============================] - 61s 155ms/step - loss: 1.1306 - accuracy: 0.5973 - val_loss: 1.1117 - val_accuracy: 0.6077\n",
            "Epoch 16/30\n",
            "391/391 [==============================] - 59s 152ms/step - loss: 1.0809 - accuracy: 0.6159 - val_loss: 1.0727 - val_accuracy: 0.6194\n",
            "Epoch 17/30\n",
            "391/391 [==============================] - 59s 151ms/step - loss: 1.0331 - accuracy: 0.6346 - val_loss: 1.0477 - val_accuracy: 0.6289\n",
            "Epoch 18/30\n",
            "391/391 [==============================] - 59s 151ms/step - loss: 0.9840 - accuracy: 0.6536 - val_loss: 0.9960 - val_accuracy: 0.6501\n",
            "Epoch 19/30\n",
            "391/391 [==============================] - 59s 151ms/step - loss: 0.9362 - accuracy: 0.6699 - val_loss: 0.9929 - val_accuracy: 0.6504\n",
            "Epoch 20/30\n",
            "391/391 [==============================] - 59s 151ms/step - loss: 0.8841 - accuracy: 0.6875 - val_loss: 0.9920 - val_accuracy: 0.6562\n",
            "Epoch 21/30\n",
            "391/391 [==============================] - 61s 155ms/step - loss: 0.8319 - accuracy: 0.7049 - val_loss: 0.9515 - val_accuracy: 0.6715\n",
            "Epoch 22/30\n",
            "391/391 [==============================] - 61s 155ms/step - loss: 0.7845 - accuracy: 0.7227 - val_loss: 0.9395 - val_accuracy: 0.6793\n",
            "Epoch 23/30\n",
            "391/391 [==============================] - 59s 151ms/step - loss: 0.7318 - accuracy: 0.7420 - val_loss: 0.9376 - val_accuracy: 0.6780\n",
            "Epoch 24/30\n",
            "391/391 [==============================] - 61s 155ms/step - loss: 0.6816 - accuracy: 0.7580 - val_loss: 0.9075 - val_accuracy: 0.6924\n",
            "Epoch 25/30\n",
            "391/391 [==============================] - 61s 155ms/step - loss: 0.6367 - accuracy: 0.7730 - val_loss: 0.8957 - val_accuracy: 0.6992\n",
            "Epoch 26/30\n",
            "391/391 [==============================] - 59s 152ms/step - loss: 0.5853 - accuracy: 0.7933 - val_loss: 0.9517 - val_accuracy: 0.6795\n",
            "Epoch 27/30\n",
            "391/391 [==============================] - 59s 151ms/step - loss: 0.5305 - accuracy: 0.8115 - val_loss: 0.9596 - val_accuracy: 0.6883\n",
            "Epoch 28/30\n",
            "391/391 [==============================] - 61s 155ms/step - loss: 0.4922 - accuracy: 0.8269 - val_loss: 0.9613 - val_accuracy: 0.6944\n",
            "Epoch 29/30\n",
            "391/391 [==============================] - 59s 151ms/step - loss: 0.4431 - accuracy: 0.8433 - val_loss: 0.9490 - val_accuracy: 0.7021\n",
            "Epoch 30/30\n",
            "391/391 [==============================] - 61s 155ms/step - loss: 0.4013 - accuracy: 0.8595 - val_loss: 0.9948 - val_accuracy: 0.7020\n"
          ]
        }
      ]
    },
    {
      "cell_type": "code",
      "source": [
        "test_loss, test_acc = model.evaluate(X_test, y_test, verbose=0)\n",
        "print('Test loss:', test_loss)\n",
        "print('Test accuracy:', test_acc)"
      ],
      "metadata": {
        "colab": {
          "base_uri": "https://localhost:8080/"
        },
        "id": "nibXfDbt4JYB",
        "outputId": "a8aced00-6076-4bb8-8538-af400344df93"
      },
      "execution_count": 9,
      "outputs": [
        {
          "output_type": "stream",
          "name": "stdout",
          "text": [
            "Test loss: 0.99477618932724\n",
            "Test accuracy: 0.7020000219345093\n"
          ]
        }
      ]
    },
    {
      "cell_type": "code",
      "source": [
        "# record the training and validation accuracy and loss after each epoch\n",
        "train_acc = history.history['accuracy']\n",
        "train_loss = history.history['loss']\n",
        "val_acc = history.history['val_accuracy']\n",
        "val_loss = history.history['val_loss']\n",
        "\n",
        "# save the training log in a file\n",
        "with open('archi_1_logfile.txt', 'w') as f:\n",
        "    for i in range(len(train_acc)):\n",
        "        f.write(\"Epoch {}: train_acc = {}, train_loss = {}, val_acc = {}, val_loss = {}\\n\".format(\n",
        "            i+1, train_acc[i], train_loss[i], val_acc[i], val_loss[i]))"
      ],
      "metadata": {
        "id": "MITzCAQ_61uI"
      },
      "execution_count": 10,
      "outputs": []
    },
    {
      "cell_type": "code",
      "source": [
        "# save the test accuracy and loss in the training log file\n",
        "with open('archi_1_logfile.txt', 'a') as f:\n",
        "    f.write(\"Test accuracy = {}, Test loss = {}\\n\".format(test_acc, test_loss))"
      ],
      "metadata": {
        "id": "4-d-2pce67zs"
      },
      "execution_count": 13,
      "outputs": []
    },
    {
      "cell_type": "code",
      "source": [
        "model.summary()"
      ],
      "metadata": {
        "colab": {
          "base_uri": "https://localhost:8080/"
        },
        "id": "trzvfw45wktO",
        "outputId": "6d3aa58b-646f-4d64-a153-87bc3d86adcf"
      },
      "execution_count": 14,
      "outputs": [
        {
          "output_type": "stream",
          "name": "stdout",
          "text": [
            "Model: \"my_custom_model\"\n",
            "_________________________________________________________________\n",
            " Layer (type)                Output Shape              Param #   \n",
            "=================================================================\n",
            " input_1 (InputLayer)        [(None, 32, 32, 3)]       0         \n",
            "                                                                 \n",
            " conv1 (Conv2D)              (None, 32, 32, 32)        896       \n",
            "                                                                 \n",
            " conv2 (Conv2D)              (None, 32, 32, 64)        18496     \n",
            "                                                                 \n",
            " conv3 (Conv2D)              (None, 32, 32, 128)       73856     \n",
            "                                                                 \n",
            " conv4 (Conv2D)              (None, 32, 32, 256)       295168    \n",
            "                                                                 \n",
            " conv5 (Conv2D)              (None, 32, 32, 512)       1180160   \n",
            "                                                                 \n",
            " max_pooling (MaxPooling2D)  (None, 16, 16, 512)       0         \n",
            "                                                                 \n",
            " flatten (Flatten)           (None, 131072)            0         \n",
            "                                                                 \n",
            " fc1 (Dense)                 (None, 256)               33554688  \n",
            "                                                                 \n",
            " dropout1 (Dropout)          (None, 256)               0         \n",
            "                                                                 \n",
            " fc2 (Dense)                 (None, 128)               32896     \n",
            "                                                                 \n",
            " dropout2 (Dropout)          (None, 128)               0         \n",
            "                                                                 \n",
            " output (Dense)              (None, 10)                1290      \n",
            "                                                                 \n",
            "=================================================================\n",
            "Total params: 35,157,450\n",
            "Trainable params: 35,157,450\n",
            "Non-trainable params: 0\n",
            "_________________________________________________________________\n"
          ]
        }
      ]
    },
    {
      "cell_type": "code",
      "source": [
        "# plot the training and validation accuracy curves\n",
        "plt.plot(train_acc)\n",
        "plt.plot(val_acc)\n",
        "plt.title('Model Accuracy for architecture_1 ')\n",
        "plt.ylabel('Accuracy')\n",
        "plt.xlabel('Epoch')\n",
        "plt.legend(['Train', 'Validation'], loc='upper left')\n",
        "plt.savefig('Archi_1_accuracy.png')\n",
        "plt.show()\n",
        "\n",
        "# plot the training and validation loss curves\n",
        "plt.plot(train_loss)\n",
        "plt.plot(val_loss)\n",
        "plt.title('Model Loss for architecture_1 ')\n",
        "plt.ylabel('Loss')\n",
        "plt.xlabel('Epoch')\n",
        "plt.legend(['Train', 'Validation'], loc='upper left')\n",
        "plt.savefig('Archi_1_accuracy_loss.png')\n",
        "plt.show()\n"
      ],
      "metadata": {
        "colab": {
          "base_uri": "https://localhost:8080/",
          "height": 573
        },
        "id": "ReWJxehb672i",
        "outputId": "e96670e7-ccae-4f8f-abc0-016b98a11cc8"
      },
      "execution_count": 17,
      "outputs": [
        {
          "output_type": "display_data",
          "data": {
            "text/plain": [
              "<Figure size 432x288 with 1 Axes>"
            ],
            "image/png": "[encoded data removed]"
          },
          "metadata": {
            "needs_background": "light"
          }
        },
        {
          "output_type": "display_data",
          "data": {
            "text/plain": [
              "<Figure size 432x288 with 1 Axes>"
            ],
            "image/png": "[encoded data removed]"
          },
          "metadata": {
            "needs_background": "light"
          }
        }
      ]
    },
    {
      "cell_type": "markdown",
      "source": [
        "# **custom network architecture 2**"
      ],
      "metadata": {
        "id": "OTpR7vrICaxD"
      }
    },
    {
      "cell_type": "code",
      "source": [
        "# Define input shape\n",
        "input_shape = (32, 32, 3)\n",
        "\n",
        "# Define the input layer\n",
        "inputs = Input(shape=input_shape)\n",
        "\n",
        "# Define the first convolutional layer with a learning rate of 0.01\n",
        "conv1 = Conv2D(filters=32, kernel_size=(3, 3), padding='same', activation='relu', name='conv1')(inputs)\n",
        "\n",
        "# Define the second convolutional layer with a learning rate of 0.05\n",
        "conv2 = Conv2D(filters=32, kernel_size=(3, 3), padding='same', activation='relu', name='conv2')(conv1)\n",
        "\n",
        "# Define the third convolutional layer with a learning rate of 0.001\n",
        "conv3 = Conv2D(filters=64, kernel_size=(3, 3), padding='same', activation='relu', name='conv3')(conv2)\n",
        "\n",
        "# Define the fourth convolutional layer with a learning rate of 0.005\n",
        "conv4 = Conv2D(filters=64, kernel_size=(3, 3), padding='same', activation='relu', name='conv4')(conv3)\n",
        "\n",
        "# Define the fifth convolutional layer with a learning rate of 0.0009\n",
        "conv5 = Conv2D(filters=128, kernel_size=(3, 3), padding='same', activation='relu', name='conv5')(conv4)\n",
        "\n",
        "# Define the six convolutional layer with a learning rate of 0.005\n",
        "conv6 = Conv2D(filters=256, kernel_size=(3, 3), padding='same', activation='relu', name='conv6')(conv5)\n",
        "\n",
        "# Define the max pooling layer\n",
        "pooling = MaxPooling2D(pool_size=(2, 2), name='max_pooling')(conv6)\n",
        "\n",
        "# Flatten the output from the max pooling layer\n",
        "flatten = Flatten(name='flatten')(pooling)\n",
        "\n",
        "# Define the first fully connected layer\n",
        "fc1 = Dense(units=256, activation='relu', name='fc1')(flatten)\n",
        "\n",
        "# Add a dropout layer to prevent overfitting\n",
        "dropout1 = Dropout(rate=0.4, name='dropout1')(fc1)\n",
        "\n",
        "# Define the second fully connected layer\n",
        "fc2 = Dense(units=128, activation='relu', name='fc2')(dropout1)\n",
        "\n",
        "# Add a dropout layer to prevent overfitting\n",
        "dropout2 = Dropout(rate=0.3, name='dropout2')(fc2)\n",
        "\n",
        "# Define the output layer\n",
        "outputs = Dense(units=10, activation='softmax', name='output')(dropout2)\n",
        "\n",
        "# Create the model\n",
        "model = Model(inputs=inputs, outputs=outputs, name='my_custom_model')\n",
        "\n",
        "# Define the optimizer with different learning rates for different convolutional layers\n",
        "sgd = SGD(lr={'conv1': 0.01, 'conv2': 0.05, 'conv3': 0.001, 'conv4': 0.005, 'conv5': 0.0009,'conv6': 0.005})\n",
        "\n",
        "# Compile the model with categorical cross-entropy loss and accuracy metric\n",
        "model.compile(loss='categorical_crossentropy', metrics=['accuracy'], optimizer=sgd)\n",
        "history=model.fit(X_train, y_train, batch_size=150, epochs=20, validation_data=(X_test, y_test))"
      ],
      "metadata": {
        "colab": {
          "base_uri": "https://localhost:8080/"
        },
        "id": "lB9gFhZSifjI",
        "outputId": "e8adaecf-3efe-47b8-c06f-6c2e368227fd"
      },
      "execution_count": 18,
      "outputs": [
        {
          "output_type": "stream",
          "name": "stderr",
          "text": [
            "WARNING:absl:`lr` is deprecated, please use `learning_rate` instead, or use the legacy optimizer, e.g.,tf.keras.optimizers.legacy.SGD.\n"
          ]
        },
        {
          "output_type": "stream",
          "name": "stdout",
          "text": [
            "Epoch 1/20\n",
            "334/334 [==============================] - 32s 87ms/step - loss: 2.2572 - accuracy: 0.1511 - val_loss: 2.1189 - val_accuracy: 0.2257\n",
            "Epoch 2/20\n",
            "334/334 [==============================] - 28s 84ms/step - loss: 2.0517 - accuracy: 0.2537 - val_loss: 1.8561 - val_accuracy: 0.3418\n",
            "Epoch 3/20\n",
            "334/334 [==============================] - 28s 83ms/step - loss: 1.9070 - accuracy: 0.3159 - val_loss: 1.7598 - val_accuracy: 0.3685\n",
            "Epoch 4/20\n",
            "334/334 [==============================] - 27s 80ms/step - loss: 1.8177 - accuracy: 0.3524 - val_loss: 1.6654 - val_accuracy: 0.4109\n",
            "Epoch 5/20\n",
            "334/334 [==============================] - 27s 80ms/step - loss: 1.7460 - accuracy: 0.3786 - val_loss: 1.6248 - val_accuracy: 0.4232\n",
            "Epoch 6/20\n",
            "334/334 [==============================] - 27s 80ms/step - loss: 1.6829 - accuracy: 0.3979 - val_loss: 1.5239 - val_accuracy: 0.4473\n",
            "Epoch 7/20\n",
            "334/334 [==============================] - 27s 80ms/step - loss: 1.6237 - accuracy: 0.4181 - val_loss: 1.4997 - val_accuracy: 0.4573\n",
            "Epoch 8/20\n",
            "334/334 [==============================] - 27s 80ms/step - loss: 1.5786 - accuracy: 0.4331 - val_loss: 1.4545 - val_accuracy: 0.4680\n",
            "Epoch 9/20\n",
            "334/334 [==============================] - 27s 80ms/step - loss: 1.5227 - accuracy: 0.4546 - val_loss: 1.6165 - val_accuracy: 0.4405\n",
            "Epoch 10/20\n",
            "334/334 [==============================] - 27s 80ms/step - loss: 1.4710 - accuracy: 0.4685 - val_loss: 1.3483 - val_accuracy: 0.5177\n",
            "Epoch 11/20\n",
            "334/334 [==============================] - 27s 81ms/step - loss: 1.4166 - accuracy: 0.4912 - val_loss: 1.3376 - val_accuracy: 0.5208\n",
            "Epoch 12/20\n",
            "334/334 [==============================] - 28s 83ms/step - loss: 1.3726 - accuracy: 0.5066 - val_loss: 1.3799 - val_accuracy: 0.5114\n",
            "Epoch 13/20\n",
            "334/334 [==============================] - 28s 84ms/step - loss: 1.3231 - accuracy: 0.5262 - val_loss: 1.2420 - val_accuracy: 0.5591\n",
            "Epoch 14/20\n",
            "334/334 [==============================] - 28s 84ms/step - loss: 1.2875 - accuracy: 0.5397 - val_loss: 1.1990 - val_accuracy: 0.5751\n",
            "Epoch 15/20\n",
            "334/334 [==============================] - 28s 84ms/step - loss: 1.2418 - accuracy: 0.5561 - val_loss: 1.1940 - val_accuracy: 0.5808\n",
            "Epoch 16/20\n",
            "334/334 [==============================] - 27s 80ms/step - loss: 1.2036 - accuracy: 0.5712 - val_loss: 1.1246 - val_accuracy: 0.5976\n",
            "Epoch 17/20\n",
            "334/334 [==============================] - 27s 80ms/step - loss: 1.1622 - accuracy: 0.5861 - val_loss: 1.1286 - val_accuracy: 0.5932\n",
            "Epoch 18/20\n",
            "334/334 [==============================] - 27s 81ms/step - loss: 1.1252 - accuracy: 0.6001 - val_loss: 1.1235 - val_accuracy: 0.6027\n",
            "Epoch 19/20\n",
            "334/334 [==============================] - 28s 84ms/step - loss: 1.0784 - accuracy: 0.6155 - val_loss: 1.0823 - val_accuracy: 0.6195\n",
            "Epoch 20/20\n",
            "334/334 [==============================] - 28s 84ms/step - loss: 1.0409 - accuracy: 0.6303 - val_loss: 1.1210 - val_accuracy: 0.6121\n"
          ]
        }
      ]
    },
    {
      "cell_type": "code",
      "source": [
        "test_loss, test_acc = model.evaluate(X_test, y_test, verbose=0)\n",
        "print('Test loss:', test_loss)\n",
        "print('Test accuracy:', test_acc)"
      ],
      "metadata": {
        "colab": {
          "base_uri": "https://localhost:8080/"
        },
        "id": "Be4yN1zjDPLP",
        "outputId": "3efb5269-0049-4515-c383-a0ff451d5ac2"
      },
      "execution_count": 19,
      "outputs": [
        {
          "output_type": "stream",
          "name": "stdout",
          "text": [
            "Test loss: 1.1210068464279175\n",
            "Test accuracy: 0.6121000051498413\n"
          ]
        }
      ]
    },
    {
      "cell_type": "code",
      "source": [
        "# record the training and validation accuracy and loss after each epoch\n",
        "train_acc = history.history['accuracy']\n",
        "train_loss = history.history['loss']\n",
        "val_acc = history.history['val_accuracy']\n",
        "val_loss = history.history['val_loss']\n",
        "# save the training log in a file\n",
        "with open('archi_2_logfiles.txt', 'w') as f:\n",
        "    for i in range(len(train_acc)):\n",
        "        f.write(\"Epoch {}: train_acc = {}, train_loss = {}, val_acc = {}, val_loss = {}\\n\".format(\n",
        "            i+1, train_acc[i], train_loss[i], val_acc[i], val_loss[i]))\n",
        "\n",
        "# save the test accuracy and loss in the training log file\n",
        "with open('archi_2_logfiles.txt', 'a') as f:\n",
        "    f.write(\"Test accuracy = {}, Test loss = {}\\n\".format(test_acc, test_loss))"
      ],
      "metadata": {
        "id": "pRO0Odj1DQWE"
      },
      "execution_count": 20,
      "outputs": []
    },
    {
      "cell_type": "code",
      "source": [
        "model.summary()"
      ],
      "metadata": {
        "colab": {
          "base_uri": "https://localhost:8080/"
        },
        "id": "wH6Gsh040Rj4",
        "outputId": "013f71b1-a5f8-4f4a-da17-cbad8a38a442"
      },
      "execution_count": 21,
      "outputs": [
        {
          "output_type": "stream",
          "name": "stdout",
          "text": [
            "Model: \"my_custom_model\"\n",
            "_________________________________________________________________\n",
            " Layer (type)                Output Shape              Param #   \n",
            "=================================================================\n",
            " input_2 (InputLayer)        [(None, 32, 32, 3)]       0         \n",
            "                                                                 \n",
            " conv1 (Conv2D)              (None, 32, 32, 32)        896       \n",
            "                                                                 \n",
            " conv2 (Conv2D)              (None, 32, 32, 32)        9248      \n",
            "                                                                 \n",
            " conv3 (Conv2D)              (None, 32, 32, 64)        18496     \n",
            "                                                                 \n",
            " conv4 (Conv2D)              (None, 32, 32, 64)        36928     \n",
            "                                                                 \n",
            " conv5 (Conv2D)              (None, 32, 32, 128)       73856     \n",
            "                                                                 \n",
            " conv6 (Conv2D)              (None, 32, 32, 256)       295168    \n",
            "                                                                 \n",
            " max_pooling (MaxPooling2D)  (None, 16, 16, 256)       0         \n",
            "                                                                 \n",
            " flatten (Flatten)           (None, 65536)             0         \n",
            "                                                                 \n",
            " fc1 (Dense)                 (None, 256)               16777472  \n",
            "                                                                 \n",
            " dropout1 (Dropout)          (None, 256)               0         \n",
            "                                                                 \n",
            " fc2 (Dense)                 (None, 128)               32896     \n",
            "                                                                 \n",
            " dropout2 (Dropout)          (None, 128)               0         \n",
            "                                                                 \n",
            " output (Dense)              (None, 10)                1290      \n",
            "                                                                 \n",
            "=================================================================\n",
            "Total params: 17,246,250\n",
            "Trainable params: 17,246,250\n",
            "Non-trainable params: 0\n",
            "_________________________________________________________________\n"
          ]
        }
      ]
    },
    {
      "cell_type": "code",
      "source": [
        "# plot the training and validation accuracy curves\n",
        "plt.plot(train_acc)\n",
        "plt.plot(val_acc)\n",
        "plt.title('Model Accuracy for architecture_2 ')\n",
        "plt.ylabel('Accuracy')\n",
        "plt.xlabel('Epoch')\n",
        "plt.legend(['Train', 'Validation'], loc='upper left')\n",
        "plt.savefig('Archi_2_accuracy.png')\n",
        "plt.show()\n",
        "\n",
        "# plot the training and validation loss curves\n",
        "plt.plot(train_loss)\n",
        "plt.plot(val_loss)\n",
        "plt.title('Model Loss for architecture_2 ')\n",
        "plt.ylabel('Loss')\n",
        "plt.xlabel('Epoch')\n",
        "plt.legend(['Train', 'Validation'], loc='upper left')\n",
        "plt.savefig('Archi_2_loss.png')\n",
        "plt.show()"
      ],
      "metadata": {
        "colab": {
          "base_uri": "https://localhost:8080/",
          "height": 573
        },
        "id": "R8Ol08XuDvqP",
        "outputId": "440668df-119d-4f49-a3f3-91d0c23362b4"
      },
      "execution_count": 22,
      "outputs": [
        {
          "output_type": "display_data",
          "data": {
            "text/plain": [
              "<Figure size 432x288 with 1 Axes>"
            ],
            "image/png": "[encoded data removed]"
          },
          "metadata": {
            "needs_background": "light"
          }
        },
        {
          "output_type": "display_data",
          "data": {
            "text/plain": [
              "<Figure size 432x288 with 1 Axes>"
            ],
            "image/png": "[encoded data removed]"
          },
          "metadata": {
            "needs_background": "light"
          }
        }
      ]
    }
  ]
}